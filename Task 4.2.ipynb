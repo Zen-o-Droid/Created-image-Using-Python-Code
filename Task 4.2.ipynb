{
 "cells": [
  {
   "cell_type": "code",
   "execution_count": 35,
   "id": "6a4b2656",
   "metadata": {},
   "outputs": [
    {
     "name": "stdout",
     "output_type": "stream",
     "text": [
      "(230, 180, 3) (230, 180, 3)\n",
      "(700, 1282, 3)\n"
     ]
    }
   ],
   "source": [
    "import cv2\n",
    "import numpy as np\n",
    "\n",
    "#Store 1st image to variable with same dimention\n",
    "img1 = cv2.imread(\"hulk.jpg\")[0:700,150:900]\n",
    "img1.shape\n",
    "cv2.imshow(\"Before\",img1)\n",
    "cv2.waitKey(0)\n",
    "cv2.destroyAllWindows()\n",
    "\n",
    "\n",
    "\n",
    "#Store 2nd image to variable with same dimention\n",
    "img2 = cv2.imread(\"thor.jpg\")\n",
    "img2 = img2[0:700,150:900]\n",
    "cv2.imshow(\"Before\",img2)\n",
    "cv2.waitKey(0)\n",
    "cv2.destroyAllWindows()\n",
    "\n",
    "imga=np.array(img1[45:275,280:460])\n",
    "imgb = np.array(img2[50:280,250:430])\n",
    "print(imgb.shape,imga.shape)\n",
    "\n",
    "#Stack the image\n",
    "prev = np.hstack((img1,img2))\n",
    "print(prev.shape)\n",
    "cv2.imshow(\"Before\",prev)\n",
    "cv2.waitKey(0)\n",
    "cv2.destroyAllWindows()\n",
    "\n",
    "# Now we swap these part:\n",
    "\n",
    "img1[45:275,250:430] = imgb\n",
    "img2[30:260,80:260] = imga\n",
    "\n",
    "#Stack Both Image\n",
    "after = np.hstack((img1,img2))\n",
    "\n",
    "#Display Images\n",
    "#cv2.imshow(\"Before\",prev)\n",
    "#Display the Image\n",
    "cv2.imshow(\"After\",after)\n",
    "cv2.waitKey(0)\n",
    "cv2.destroyAllWindows()"
   ]
  },
  {
   "cell_type": "code",
   "execution_count": null,
   "id": "f70ab875",
   "metadata": {},
   "outputs": [],
   "source": []
  }
 ],
 "metadata": {
  "kernelspec": {
   "display_name": "Python 3",
   "language": "python",
   "name": "python3"
  },
  "language_info": {
   "codemirror_mode": {
    "name": "ipython",
    "version": 3
   },
   "file_extension": ".py",
   "mimetype": "text/x-python",
   "name": "python",
   "nbconvert_exporter": "python",
   "pygments_lexer": "ipython3",
   "version": "3.8.8"
  }
 },
 "nbformat": 4,
 "nbformat_minor": 5
}
